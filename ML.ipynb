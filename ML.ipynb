{
  "nbformat": 4,
  "nbformat_minor": 0,
  "metadata": {
    "colab": {
      "name": "ML",
      "provenance": [],
      "collapsed_sections": [],
      "authorship_tag": "ABX9TyMfBEeHTNvMCEzaC6nfojD8",
      "include_colab_link": true
    },
    "kernelspec": {
      "name": "python3",
      "display_name": "Python 3"
    }
  },
  "cells": [
    {
      "cell_type": "markdown",
      "metadata": {
        "id": "view-in-github",
        "colab_type": "text"
      },
      "source": [
        "<a href=\"https://colab.research.google.com/github/busyhound/ML/blob/main/ML.ipynb\" target=\"_parent\"><img src=\"https://colab.research.google.com/assets/colab-badge.svg\" alt=\"Open In Colab\"/></a>"
      ]
    },
    {
      "cell_type": "code",
      "metadata": {
        "id": "aVuLYaVvyPVz"
      },
      "source": [
        "import numpy as np\n",
        "import pandas as pd"
      ],
      "execution_count": 129,
      "outputs": []
    },
    {
      "cell_type": "code",
      "metadata": {
        "colab": {
          "base_uri": "https://localhost:8080/"
        },
        "id": "SI5ZyuD4yfN5",
        "outputId": "3cd0b100-f19a-44f4-b1a4-99c6083a39d1"
      },
      "source": [
        "\n",
        "import matplotlib.pyplot as plt\n",
        "from mpl_toolkits.mplot3d import Axes3D\n",
        "from sklearn import datasets\n",
        "from sklearn.decomposition import PCA\n",
        "from sklearn.model_selection import train_test_split\n",
        "iris = datasets.load_iris()\n",
        "X, Y_in = iris.data, iris.target\n",
        "print(len(y))\n",
        "\n",
        "#x_train,x_test,y_train,y_test=train_test_split(x,y,test_size=0.01,random_state=123)\n"
      ],
      "execution_count": 144,
      "outputs": [
        {
          "output_type": "stream",
          "text": [
            "3\n"
          ],
          "name": "stdout"
        }
      ]
    },
    {
      "cell_type": "code",
      "metadata": {
        "id": "b27s_n39V9gL"
      },
      "source": [
        "Y=[]\n",
        "for i in range(len(Y_in)):\n",
        "  #print(Y_in[i])\n",
        "  y=oneHotVector(Y_in[i])\n",
        "  Y.append(y)\n",
        "Y=np.array(Y)"
      ],
      "execution_count": 145,
      "outputs": []
    },
    {
      "cell_type": "code",
      "metadata": {
        "id": "XZ6a6KMRytsl"
      },
      "source": [
        ""
      ],
      "execution_count": 131,
      "outputs": []
    },
    {
      "cell_type": "code",
      "metadata": {
        "id": "FRh4B6ZPTbjN"
      },
      "source": [
        "print(Y)"
      ],
      "execution_count": null,
      "outputs": []
    },
    {
      "cell_type": "code",
      "metadata": {
        "id": "2Zaf0NzWy-qn"
      },
      "source": [
        "from sklearn.model_selection import train_test_split\n",
        "X_train, X_test, Y_train, Y_test = train_test_split(X, Y, test_size=0.2)\n",
        "X_train, X_val, Y_train, Y_val = train_test_split(X_train, Y_train, test_size=0.1)"
      ],
      "execution_count": 146,
      "outputs": []
    },
    {
      "cell_type": "code",
      "metadata": {
        "id": "NrW71iOVzCCK"
      },
      "source": [
        "def NeuralNetwork(X_train, Y_train, X_val=None, Y_val=None, epochs=10, nodes=[], lr=0.15):\n",
        "    hidden_layers = len(nodes) - 1\n",
        "    weights = InitializeWeights(nodes)\n",
        "\n",
        "    for epoch in range(1, epochs+1):\n",
        "        weights = Train(X_train, Y_train, lr, weights)\n",
        "\n",
        "        if(epoch % 20 == 0):\n",
        "            print(\"Epoch {}\".format(epoch))\n",
        "            print(\"Training Accuracy:{}\".format(Accuracy(X_train, Y_train, weights)))\n",
        "            print(\"Test Accuracy:{}\".format(Accuracy(X_test, Y_test, weights)))\n",
        "           \n",
        "    return weights\n"
      ],
      "execution_count": 133,
      "outputs": []
    },
    {
      "cell_type": "code",
      "metadata": {
        "id": "HzlkpTbmCqqG"
      },
      "source": [
        "def oneHotVector(n):\n",
        "  b=[]\n",
        "  #a=int(input())\n",
        "  a=3 # number of class\n",
        "  for i in range(a):\n",
        "    if(i==n):\n",
        "      b.append(1.0)\n",
        "    else:\n",
        "      b.append(0.0)\n",
        "  return b"
      ],
      "execution_count": 134,
      "outputs": []
    },
    {
      "cell_type": "code",
      "metadata": {
        "id": "ymETaU-kzIU2"
      },
      "source": [
        "def InitializeWeights(nodes):\n",
        "    \"\"\"Initialize weights with random values in [-1, 1] (including bias)\"\"\"\n",
        "    layers, weights = len(nodes), []\n",
        "    \n",
        "    for i in range(1, layers):\n",
        "        w = [[np.random.uniform(-1, 1) for k in range(nodes[i-1] + 1)]\n",
        "              for j in range(nodes[i])]\n",
        "        weights.append(np.matrix(w))\n",
        "    \n",
        "    return weights"
      ],
      "execution_count": 135,
      "outputs": []
    },
    {
      "cell_type": "code",
      "metadata": {
        "id": "DOIo6_1zzLBE"
      },
      "source": [
        "def ForwardPropagation(x, weights, layers):\n",
        "    activations, layer_input = [x], x\n",
        "    for j in range(layers):\n",
        "        activation = Sigmoid(np.dot(layer_input, weights[j].T))\n",
        "        #print(\"activation\",activation)\n",
        "        #input()\n",
        "        activations.append(activation)\n",
        "        layer_input = np.append(1, activation) # Augment with bias\n",
        "    #print(\"activations----------------\",activations)\n",
        "    #input()\n",
        "    return activations"
      ],
      "execution_count": 164,
      "outputs": []
    },
    {
      "cell_type": "code",
      "metadata": {
        "id": "YQ9RilOGzOD8"
      },
      "source": [
        "def BackPropagation(y, activations, weights, layers):\n",
        "    outputFinal = activations[-1]\n",
        "    error = np.matrix(y - outputFinal) # Error at output\n",
        "    \n",
        "    for j in range(layers, 0, -1):\n",
        "        currActivation = activations[j]\n",
        "       #print(\"currActivation\",currActivation)\n",
        "        #input()\n",
        "        \n",
        "        if(j > 1):\n",
        "            # Augment previous activation\n",
        "            prevActivation = np.append(1, activations[j-1])\n",
        "        else:\n",
        "            # First hidden layer, prevActivation is input (without bias)\n",
        "            prevActivation = activations[0]\n",
        "        \n",
        "        delta = np.multiply(error, SigmoidDerivative(currActivation))\n",
        "        weights[j-1] += lr * np.multiply(delta.T, prevActivation)\n",
        "\n",
        "        w = np.delete(weights[j-1], [0], axis=1) # Remove bias from weights\n",
        "        error = np.dot(delta, w) # Calculate error for current layer\n",
        "    \n",
        "    return weights"
      ],
      "execution_count": 137,
      "outputs": []
    },
    {
      "cell_type": "code",
      "metadata": {
        "id": "0rR9fm35zQvr"
      },
      "source": [
        "def Train(X, Y, lr, weights):\n",
        "    layers = len(weights)\n",
        "    for i in range(len(X)):\n",
        "        x, y = X[i], Y[i]\n",
        "        x = np.matrix(np.append(1, x)) # Augment feature vector\n",
        "        \n",
        "        activations = ForwardPropagation(x, weights, layers)\n",
        "        weights = BackPropagation(y, activations, weights, layers)\n",
        "\n",
        "    return weights"
      ],
      "execution_count": 138,
      "outputs": []
    },
    {
      "cell_type": "code",
      "metadata": {
        "id": "9cGaHQkdzTzk"
      },
      "source": [
        "def Sigmoid(x):\n",
        "    return 1 / (1 + np.exp(-x))\n",
        "\n",
        "def SigmoidDerivative(x):\n",
        "    return np.multiply(x, 1-x)"
      ],
      "execution_count": 139,
      "outputs": []
    },
    {
      "cell_type": "code",
      "metadata": {
        "id": "xx2UpMGozXNu"
      },
      "source": [
        "def Predict(item, weights):\n",
        "    layers = len(weights)\n",
        "    item = np.append(1, item) # Augment feature vector\n",
        "    \n",
        "    ##_Forward Propagation_##\n",
        "    activations = ForwardPropagation(item, weights, layers)\n",
        "    \n",
        "    outputFinal = activations[-1].A1\n",
        "    index = FindMaxActivation(outputFinal)\n",
        "\n",
        "    # Initialize prediction vector to zeros\n",
        "    y = [0 for i in range(len(outputFinal))]\n",
        "    y[index] = 1  # Set guessed class to 1\n",
        "\n",
        "    return y # Return prediction vector\n",
        "\n",
        "\n",
        "def FindMaxActivation(output):\n",
        "    \"\"\"Find max activation in output\"\"\"\n",
        "    m, index = output[0], 0\n",
        "    for i in range(1, len(output)):\n",
        "        if(output[i] > m):\n",
        "            m, index = output[i], i\n",
        "    \n",
        "    return index"
      ],
      "execution_count": 140,
      "outputs": []
    },
    {
      "cell_type": "code",
      "metadata": {
        "id": "phHHW-7nzaTJ"
      },
      "source": [
        "def Accuracy(X, Y, weights):\n",
        "    \"\"\"Run set through network, find overall accuracy\"\"\"\n",
        "    correct = 0\n",
        "    #print(\"rr3\")\n",
        "    for i in range(len(X)):\n",
        "        #print(\"rr4\")\n",
        "        x, y = X[i], list(Y[i])\n",
        "      #  print(y)\n",
        "        #input()\n",
        "       # print(\"rr1\")\n",
        "        guess = Predict(x, weights)\n",
        "        #print(\"rr2\")\n",
        "\n",
        "        if(y == guess):\n",
        "            # Guessed correctly\n",
        "            correct += 1\n",
        "\n",
        "    return correct / len(X)"
      ],
      "execution_count": 141,
      "outputs": []
    },
    {
      "cell_type": "code",
      "metadata": {
        "id": "tgk1bTlDgGWg"
      },
      "source": [
        "def main():\n",
        "  inputLayer=4\n",
        "  outputLayer=3\n",
        "  First_hiddenLayer=3\n",
        "  layers=[inputLayer,First_hiddenLayer,outputLayer]\n",
        "  total_hidden_layers = len(layers) - 1\n",
        "  weights=[]\n",
        "  w1=np.random.random((3,5))\n",
        "  weights.append(w1)\n",
        "  w2=np.random.random((3,4))\n",
        "  weights.append(w2)\n",
        "  ww=InitializeWeights(layers)\n",
        "  for i in weights:\n",
        "    print(\"weights\",weights)\n",
        "  for i in ww:\n",
        "    print(\"ww\",ww)\n",
        "  for epoch in range(1, epochs+1):\n",
        "    weights = Train(X_train, Y_train, lr, weights)\n",
        "    if(epoch % 20 == 0):\n",
        "      print(\"Epoch {}\".format(epoch))\n",
        "      print(\"Training Accuracy:{}\".format(Accuracy(X_train, Y_train, weights)))\n",
        "      print(\"Test Accuracy:{}\".format(Accuracy(X_test, Y_test, weights)))\n",
        "  \n",
        " \n",
        " "
      ],
      "execution_count": 165,
      "outputs": []
    },
    {
      "cell_type": "code",
      "metadata": {
        "id": "hHeR4jcRmhFM"
      },
      "source": [
        "#main()"
      ],
      "execution_count": 168,
      "outputs": []
    },
    {
      "cell_type": "code",
      "metadata": {
        "id": "A7b2PPfhmndm"
      },
      "source": [
        "InitializeWeights"
      ],
      "execution_count": null,
      "outputs": []
    },
    {
      "cell_type": "code",
      "metadata": {
        "id": "jHRCw36_zduj",
        "colab": {
          "base_uri": "https://localhost:8080/"
        },
        "outputId": "a8ca8f67-4977-4603-e286-186db49c241b"
      },
      "source": [
        "f = len(X[0]) # Number of features\n",
        "o = len(Y[0]) # Number of outputs / classes\n",
        "\n",
        "layers = [f, 5, 10, o] # Number of nodes in layers\n",
        "lr, epochs = 0.15, 100\n",
        "\n",
        "weights = NeuralNetwork(X_train, Y_train, X_val, Y_val, epochs=epochs, nodes=layers, lr=lr);\n"
      ],
      "execution_count": 167,
      "outputs": [
        {
          "output_type": "stream",
          "text": [
            "Epoch 20\n",
            "Training Accuracy:0.7407407407407407\n",
            "Test Accuracy:0.5333333333333333\n",
            "Epoch 40\n",
            "Training Accuracy:0.8425925925925926\n",
            "Test Accuracy:0.8333333333333334\n",
            "Epoch 60\n",
            "Training Accuracy:0.9444444444444444\n",
            "Test Accuracy:0.8666666666666667\n",
            "Epoch 80\n",
            "Training Accuracy:0.9629629629629629\n",
            "Test Accuracy:0.9\n",
            "Epoch 100\n",
            "Training Accuracy:0.9722222222222222\n",
            "Test Accuracy:0.9333333333333333\n"
          ],
          "name": "stdout"
        }
      ]
    },
    {
      "cell_type": "code",
      "metadata": {
        "colab": {
          "base_uri": "https://localhost:8080/"
        },
        "id": "uOF8orSgOreV",
        "outputId": "7eadb2f6-0020-4fe8-dd12-e51d3e40432f"
      },
      "source": [
        "print(x_test)\n",
        "X_train"
      ],
      "execution_count": null,
      "outputs": [
        {
          "output_type": "stream",
          "text": [
            "[[6.3 2.5 4.9 1.5]\n",
            " [6.8 3.  5.5 2.1]\n",
            " [6.4 2.8 5.6 2.2]\n",
            " [5.6 3.  4.1 1.3]\n",
            " [4.9 3.6 1.4 0.1]\n",
            " [6.  3.  4.8 1.8]\n",
            " [6.3 2.3 4.4 1.3]\n",
            " [4.4 3.2 1.3 0.2]\n",
            " [4.4 2.9 1.4 0.2]\n",
            " [5.5 2.6 4.4 1.2]\n",
            " [6.9 3.1 5.1 2.3]\n",
            " [5.5 4.2 1.4 0.2]\n",
            " [5.2 2.7 3.9 1.4]\n",
            " [6.5 3.  5.5 1.8]\n",
            " [7.7 3.  6.1 2.3]\n",
            " [6.5 3.  5.8 2.2]\n",
            " [5.5 3.5 1.3 0.2]\n",
            " [4.3 3.  1.1 0.1]\n",
            " [6.1 2.9 4.7 1.4]\n",
            " [4.8 3.  1.4 0.3]\n",
            " [5.2 3.4 1.4 0.2]\n",
            " [6.3 2.8 5.1 1.5]\n",
            " [4.8 3.4 1.9 0.2]\n",
            " [6.1 3.  4.9 1.8]\n",
            " [5.1 3.8 1.6 0.2]\n",
            " [5.4 3.4 1.7 0.2]\n",
            " [5.4 3.4 1.5 0.4]\n",
            " [5.6 2.8 4.9 2. ]\n",
            " [7.7 3.8 6.7 2.2]\n",
            " [5.  3.6 1.4 0.2]]\n"
          ],
          "name": "stdout"
        },
        {
          "output_type": "execute_result",
          "data": {
            "text/plain": [
              "array([[6. , 2.9, 4.5, 1.5],\n",
              "       [5.2, 3.5, 1.5, 0.2],\n",
              "       [6.1, 2.8, 4.7, 1.2],\n",
              "       [5.7, 2.6, 3.5, 1. ],\n",
              "       [4.6, 3.4, 1.4, 0.3],\n",
              "       [4.7, 3.2, 1.3, 0.2],\n",
              "       [5.6, 2.5, 3.9, 1.1],\n",
              "       [5.7, 4.4, 1.5, 0.4],\n",
              "       [4.8, 3.1, 1.6, 0.2],\n",
              "       [5.8, 2.6, 4. , 1.2],\n",
              "       [5.8, 2.7, 5.1, 1.9],\n",
              "       [4.7, 3.2, 1.6, 0.2],\n",
              "       [5.5, 2.3, 4. , 1.3],\n",
              "       [6.8, 3.2, 5.9, 2.3],\n",
              "       [5. , 3.4, 1.6, 0.4],\n",
              "       [5.9, 3.2, 4.8, 1.8],\n",
              "       [6.5, 2.8, 4.6, 1.5],\n",
              "       [6.7, 3. , 5. , 1.7],\n",
              "       [4.6, 3.1, 1.5, 0.2],\n",
              "       [5.4, 3.9, 1.7, 0.4],\n",
              "       [6.3, 2.7, 4.9, 1.8],\n",
              "       [6.5, 3. , 5.2, 2. ],\n",
              "       [5.1, 2.5, 3. , 1.1],\n",
              "       [6.2, 2.9, 4.3, 1.3],\n",
              "       [6.4, 3.1, 5.5, 1.8],\n",
              "       [7.2, 3.6, 6.1, 2.5],\n",
              "       [5.5, 2.4, 3.8, 1.1],\n",
              "       [6.3, 3.3, 4.7, 1.6],\n",
              "       [5.3, 3.7, 1.5, 0.2],\n",
              "       [4.6, 3.6, 1. , 0.2],\n",
              "       [5.5, 2.5, 4. , 1.3],\n",
              "       [6.7, 3. , 5.2, 2.3],\n",
              "       [6.7, 3.1, 5.6, 2.4],\n",
              "       [7.9, 3.8, 6.4, 2. ],\n",
              "       [6.4, 2.9, 4.3, 1.3],\n",
              "       [5.7, 2.8, 4.1, 1.3],\n",
              "       [6.7, 2.5, 5.8, 1.8],\n",
              "       [5.8, 2.8, 5.1, 2.4],\n",
              "       [5. , 3.5, 1.6, 0.6],\n",
              "       [6.3, 2.9, 5.6, 1.8],\n",
              "       [5.4, 3.9, 1.3, 0.4],\n",
              "       [6.9, 3.1, 4.9, 1.5],\n",
              "       [5. , 2. , 3.5, 1. ],\n",
              "       [6.4, 2.7, 5.3, 1.9],\n",
              "       [5.5, 2.4, 3.7, 1. ],\n",
              "       [5.7, 2.5, 5. , 2. ],\n",
              "       [6. , 3.4, 4.5, 1.6],\n",
              "       [5.7, 3. , 4.2, 1.2],\n",
              "       [5.1, 3.5, 1.4, 0.2],\n",
              "       [5.8, 2.7, 4.1, 1. ],\n",
              "       [4.9, 3.1, 1.5, 0.2],\n",
              "       [7.1, 3. , 5.9, 2.1],\n",
              "       [6.9, 3.1, 5.4, 2.1],\n",
              "       [7.7, 2.6, 6.9, 2.3],\n",
              "       [6. , 2.7, 5.1, 1.6],\n",
              "       [5.1, 3.7, 1.5, 0.4],\n",
              "       [6.2, 3.4, 5.4, 2.3],\n",
              "       [4.9, 3.1, 1.5, 0.1],\n",
              "       [6.3, 3.4, 5.6, 2.4],\n",
              "       [5. , 3.4, 1.5, 0.2],\n",
              "       [5. , 2.3, 3.3, 1. ],\n",
              "       [5.9, 3. , 5.1, 1.8],\n",
              "       [6. , 2.2, 5. , 1.5],\n",
              "       [4.6, 3.2, 1.4, 0.2],\n",
              "       [7.7, 2.8, 6.7, 2. ],\n",
              "       [5.6, 2.7, 4.2, 1.3],\n",
              "       [6.3, 2.5, 5. , 1.9],\n",
              "       [6.6, 2.9, 4.6, 1.3],\n",
              "       [5.1, 3.8, 1.9, 0.4],\n",
              "       [7. , 3.2, 4.7, 1.4],\n",
              "       [6.7, 3.3, 5.7, 2.1],\n",
              "       [4.5, 2.3, 1.3, 0.3],\n",
              "       [6.2, 2.8, 4.8, 1.8],\n",
              "       [5. , 3.5, 1.3, 0.3],\n",
              "       [4.9, 2.4, 3.3, 1. ],\n",
              "       [5. , 3.3, 1.4, 0.2],\n",
              "       [5.4, 3. , 4.5, 1.5],\n",
              "       [6.2, 2.2, 4.5, 1.5],\n",
              "       [6.9, 3.2, 5.7, 2.3],\n",
              "       [5.9, 3. , 4.2, 1.5],\n",
              "       [5.2, 4.1, 1.5, 0.1],\n",
              "       [6.7, 3.3, 5.7, 2.5],\n",
              "       [6.4, 2.8, 5.6, 2.1],\n",
              "       [5.1, 3.4, 1.5, 0.2],\n",
              "       [5.6, 2.9, 3.6, 1.3],\n",
              "       [6.3, 3.3, 6. , 2.5],\n",
              "       [6.6, 3. , 4.4, 1.4],\n",
              "       [5.7, 2.9, 4.2, 1.3],\n",
              "       [5.6, 3. , 4.5, 1.5],\n",
              "       [7.3, 2.9, 6.3, 1.8],\n",
              "       [5.1, 3.5, 1.4, 0.3]])"
            ]
          },
          "metadata": {
            "tags": []
          },
          "execution_count": 56
        }
      ]
    },
    {
      "cell_type": "code",
      "metadata": {
        "colab": {
          "base_uri": "https://localhost:8080/"
        },
        "id": "RkR6kanX7njR",
        "outputId": "b08ac217-f704-40cd-fcba-d5c5a380c0dd"
      },
      "source": [
        "#weights = NeuralNetwork(X_train, Y_train, X_val, Y_val, epochs=epochs, nodes=layers, lr=lr);\n",
        "#accu=Accuracy(x_test,y_test,weights)\n",
        "#for i in weights:\n",
        "  #print(\"Training Accuracy:{}\".format(Accuracy(x_test, y_test, i)))\n",
        "  #print(i)\n",
        "\n",
        "#print(\"Training Accuracy:{}\".format(Accuracy(x_test, y_test, weights)))\n",
        "#len(weights)\n",
        "print(y_test)"
      ],
      "execution_count": null,
      "outputs": [
        {
          "output_type": "stream",
          "text": [
            "[1 2 2 1 0 2 1 0 0 1 2 0 1 2 2 2 0 0 1 0 0 2 0 2 0 0 0 2 2 0]\n"
          ],
          "name": "stdout"
        }
      ]
    }
  ]
}